{
  "nbformat": 4,
  "nbformat_minor": 0,
  "metadata": {
    "colab": {
      "private_outputs": true,
      "provenance": [],
      "authorship_tag": "ABX9TyPXgBZiVVLXWuUqQLNw4rps",
      "include_colab_link": true
    },
    "kernelspec": {
      "name": "python3",
      "display_name": "Python 3"
    },
    "language_info": {
      "name": "python"
    }
  },
  "cells": [
    {
      "cell_type": "markdown",
      "metadata": {
        "id": "view-in-github",
        "colab_type": "text"
      },
      "source": [
        "<a href=\"https://colab.research.google.com/github/lagarcian/ProyectodeGradoLuisGarcia/blob/main/AutomaticSolver.ipynb\" target=\"_parent\"><img src=\"https://colab.research.google.com/assets/colab-badge.svg\" alt=\"Open In Colab\"/></a>"
      ]
    },
    {
      "cell_type": "code",
      "execution_count": null,
      "metadata": {
        "id": "yZgu7gbWNRQi"
      },
      "outputs": [],
      "source": [
        "n=int(input(\"Escribe el número de dimensión: \"))\n",
        "h=1/n\n"
      ]
    },
    {
      "cell_type": "code",
      "source": [
        "import numpy as np\n",
        "A_1=np.array([[-2,1,0],[1,-2,1],[0,1,-2]])\n",
        "B_1=np.array([-(h)**2*(h)**2,-(h)**2*(2*h)**2,-(h)**2*(3*h)**2])\n",
        "X_1=np.linalg.solve(A_1,B_1) #solucionador lineal\n",
        "print(X_1)"
      ],
      "metadata": {
        "id": "Mzw29oIpNod1"
      },
      "execution_count": null,
      "outputs": []
    },
    {
      "cell_type": "code",
      "source": [
        "A_0=np.matrix(np.zeros((3,3)))\n",
        "A=np.array([[0.,0.,0.],\n",
        "           [0.,0.,0.],\n",
        "          [0.,0.,0.]])\n",
        "A=np.zeros((n-1,n-1))\n",
        "B=int(np.matrix(np.zeros([n-1,n-1])))\n",
        "print(A)\n",
        "#print(A_0)\n",
        "#B=np.array([0.,0.,0.])\n",
        "B=np.zeros(n-1)\n",
        "print(B)"
      ],
      "metadata": {
        "id": "Vec5eOTwO7qy"
      },
      "execution_count": null,
      "outputs": []
    },
    {
      "cell_type": "code",
      "source": [
        "#Balbuceos del algoritmo para solucionar la ecuación con condiciones Dirichlet\n",
        "\n",
        "for i in range (0,n-1):\n",
        "  A[i][i]=-2.0\n",
        "  if i-1>=0:\n",
        "    A[i-1][i]=1.0\n",
        "  if i-1>0:\n",
        "    A[i][i-1]=1.0\n",
        "  if i+1<=0:\n",
        "    A[i][i+1]=1.0\n",
        "  if i+1>0 and i+1<3:\n",
        "    A[i+1][i]=1.0\n",
        "\n",
        "for j in range(0,n-1):\n",
        "   B[j]=-h**2*((j+1)*h)**2\n",
        "\n",
        "\n",
        "print(\"Para la dimesión\")\n",
        "print(n)\n",
        "print(\"El delta \")\n",
        "print(h)\n",
        "print(A)\n",
        "print(np.transpose(B))\n",
        "\n",
        "X=np.linalg.solve(A,B)\n",
        "print(X)"
      ],
      "metadata": {
        "id": "3qnDYzEqP1df"
      },
      "execution_count": null,
      "outputs": []
    },
    {
      "cell_type": "code",
      "source": [
        "def u(x):\n",
        "  return -x**4/12+x/12"
      ],
      "metadata": {
        "id": "DmobNVc1Obob"
      },
      "execution_count": null,
      "outputs": []
    },
    {
      "cell_type": "code",
      "source": [
        "u(1/2)"
      ],
      "metadata": {
        "id": "V2cBIMzLOtAa"
      },
      "execution_count": null,
      "outputs": []
    },
    {
      "cell_type": "code",
      "source": [
        "indice=int((n)/2-1)\n",
        "print(indice)\n",
        "X[indice]"
      ],
      "metadata": {
        "id": "3_EzfzZ6bJSD"
      },
      "execution_count": null,
      "outputs": []
    },
    {
      "cell_type": "code",
      "source": [
        "error=abs(u(1/2)-X[indice])\n",
        "print(error)"
      ],
      "metadata": {
        "id": "wIF8EP-xa46Y"
      },
      "execution_count": null,
      "outputs": []
    },
    {
      "cell_type": "code",
      "source": [
        "def funcion(n):\n",
        "  return 0 #error"
      ],
      "metadata": {
        "id": "JN0fu5nFe0Lv"
      },
      "execution_count": null,
      "outputs": []
    }
  ]
}