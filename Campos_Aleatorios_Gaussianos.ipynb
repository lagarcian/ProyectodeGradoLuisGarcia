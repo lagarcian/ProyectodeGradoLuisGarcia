{
  "nbformat": 4,
  "nbformat_minor": 0,
  "metadata": {
    "colab": {
      "private_outputs": true,
      "provenance": [],
      "authorship_tag": "ABX9TyO8tNlYknqODWVU+GuHoOjy",
      "include_colab_link": true
    },
    "kernelspec": {
      "name": "python3",
      "display_name": "Python 3"
    },
    "language_info": {
      "name": "python"
    }
  },
  "cells": [
    {
      "cell_type": "markdown",
      "metadata": {
        "id": "view-in-github",
        "colab_type": "text"
      },
      "source": [
        "<a href=\"https://colab.research.google.com/github/lagarcian/ProyectodeGradoLuisGarcia/blob/main/Campos_Aleatorios_Gaussianos.ipynb\" target=\"_parent\"><img src=\"https://colab.research.google.com/assets/colab-badge.svg\" alt=\"Open In Colab\"/></a>"
      ]
    },
    {
      "cell_type": "code",
      "execution_count": null,
      "metadata": {
        "id": "M_Hbw0OmkKfN"
      },
      "outputs": [],
      "source": [
        "%matplotlib inline\n",
        "from __future__ import division\n",
        "import numpy as np\n",
        "import matplotlib.pyplot as plt\n",
        "from mpl_toolkits.mplot3d import Axes3D\n",
        "from matplotlib import cm"
      ]
    },
    {
      "cell_type": "code",
      "source": [
        "np.set_printoptions(precision=4)  # Mostrar con solo cuatro decimales en notación científica\n",
        "np.set_printoptions(suppress=True) # Mostrar como cero los valores muy pequeños en notación científica"
      ],
      "metadata": {
        "id": "e1TgKqvgkdfx"
      },
      "execution_count": null,
      "outputs": []
    },
    {
      "cell_type": "markdown",
      "source": [
        "El siguiente código define una matriz de covarianza $ \\Sigma$ para un conjunto de nodos en el dominio $ [0,1] \\times [0,1] $. El número de nodos está dado por la variable $ M $, y se utiliza una función de covarianza exponencial para calcular los elementos de $ \\Sigma $. Los parámetros de la función de covarianza son la varianza $ \\sigma^2 $ y la longitud de correlación $ l $. Los nodos están organizados en una disposición secuencial en el dominio $ [0,1] \\times [0,1] $, y las coordenadas de los nodos se almacenan en la lista llamada \"nodos\".\n"
      ],
      "metadata": {
        "id": "D5p4T7OmGv10"
      }
    },
    {
      "cell_type": "code",
      "source": [
        "M =2 # Número de puntos en [0,1]x[0,1]\n",
        "\n",
        "#Se usa una función de covarianza exponencial\n",
        "# C(t1, t2) = sigma2 * exp(- norm(t1 - t2)/l)\n",
        "#de parámetros:\n",
        "sigma2 = 1    # Varianza (constante)\n",
        "l = 1         # Longitud de correlación\n",
        "\n",
        "# Los nodos t_n del dominio D = [0,1]x[0,1] se supondrán ordenados en una disposición secuencial:\n",
        "#[(0,0), (0,1/M),..., (0,(M-1)/M), (1,0),...,(1,(M-1)/M),...,((M-1)/M, 0),...,((M-1)/M,(M-1)/M)]\n",
        "\n",
        "#Secuencia de coordenadas de nodos en el mismo orden que aparecerán en\n",
        "#las filas y columnas de la matriz de covarianza Sigma\n",
        "nodos = [(i/M,j/M) for i in range(M) for j in range(M)]"
      ],
      "metadata": {
        "id": "IKkSJDvfkjPW"
      },
      "execution_count": null,
      "outputs": []
    },
    {
      "cell_type": "code",
      "source": [
        "len(nodos)\n",
        "#print(nodos)"
      ],
      "metadata": {
        "id": "0tAOX6oIkmYC"
      },
      "execution_count": null,
      "outputs": []
    },
    {
      "cell_type": "code",
      "source": [
        "x,y = zip(*nodos) #Matriz de Covarianza de tamaño (MxM, MxM)\n",
        "X1, X2 = np.meshgrid(x,x)\n",
        "Y1, Y2 = np.meshgrid(y,y)\n",
        "# Utilizaremos una función de covarianza exponencial\n",
        "Sigma = sigma2 * np.exp(-np.sqrt((X1 - X2)**2 +(Y1 - Y2)**2)/l)\n",
        "print(Sigma)"
      ],
      "metadata": {
        "id": "93NE2xrXksHa"
      },
      "execution_count": null,
      "outputs": []
    },
    {
      "cell_type": "code",
      "source": [
        "Sigma.shape\n",
        "print(Sigma)\n",
        "im = plt.imshow(Sigma, cmap='inferno')\n",
        "plt.colorbar(im);"
      ],
      "metadata": {
        "id": "pfzEhAVhk90-"
      },
      "execution_count": null,
      "outputs": []
    },
    {
      "cell_type": "code",
      "source": [
        "L = np.linalg.cholesky(Sigma) #L es la matriz triangular superior, la descomopocisión Cholesky LL^T=Sigma\n",
        "#print(L)"
      ],
      "metadata": {
        "id": "VyQwC8GXlAWr"
      },
      "execution_count": null,
      "outputs": []
    },
    {
      "cell_type": "code",
      "source": [
        "#Generamos ahora el vector normal Z∼N(0,I), el cual, al transformarlo linealmente mediante la matriz L\n",
        "#nos proporcionará una realización de un campo gaussiano N(0,Σ)\n",
        "#Otras realizaciones se podrían obtener generando un nuevo vector Z\n",
        "\n",
        "np.random.seed(1)    # Fijamos una semilla para hacer reproducible el resultado\n",
        "Z = np.random.randn(len(nodos))\n",
        "N = np.dot(L, Z)"
      ],
      "metadata": {
        "id": "3yc0g7b8lUqD"
      },
      "execution_count": null,
      "outputs": []
    },
    {
      "cell_type": "code",
      "source": [
        "print(Z)\n",
        "print(L)\n",
        "print(N)"
      ],
      "metadata": {
        "id": "ffpNQEhW68MV"
      },
      "execution_count": null,
      "outputs": []
    },
    {
      "cell_type": "code",
      "source": [
        "len(N)"
      ],
      "metadata": {
        "id": "jhy7qEUGlY1S"
      },
      "execution_count": null,
      "outputs": []
    },
    {
      "cell_type": "code",
      "source": [
        "Z2D = np.zeros((M,M))\n",
        "for i in range(len(nodos)):\n",
        "    x, y = divmod(i,M)\n",
        "    Z2D[x,y] = Z[i]"
      ],
      "metadata": {
        "id": "5jXskElxDTEm"
      },
      "execution_count": null,
      "outputs": []
    },
    {
      "cell_type": "code",
      "source": [
        "print(Z2D)"
      ],
      "metadata": {
        "id": "mtI2tbP5D0o_"
      },
      "execution_count": null,
      "outputs": []
    },
    {
      "cell_type": "code",
      "source": [
        "N2D = np.zeros((M,M))\n",
        "for i in range(len(nodos)):\n",
        "    x, y = divmod(i,M)\n",
        "    N2D[x,y] = N[i]\n",
        "    #Finalmente vamos a representar gráficamente el array resultante con los valores del campo.\n",
        "    #Para ello generaremos un array bidimensional para situar en cada punto de la región cuadrada [0,1] x [0,1] el valor del campo escalar que corresponda"
      ],
      "metadata": {
        "id": "KFCiCtpUldt_"
      },
      "execution_count": null,
      "outputs": []
    },
    {
      "cell_type": "code",
      "source": [
        "#print(N2D)"
      ],
      "metadata": {
        "id": "tY5Bhgh_GQpa"
      },
      "execution_count": null,
      "outputs": []
    },
    {
      "cell_type": "code",
      "source": [
        "im = plt.imshow(Z2D, cmap='inferno')\n",
        "plt.colorbar(im);"
      ],
      "metadata": {
        "id": "nr2l8WDoEwJt"
      },
      "execution_count": null,
      "outputs": []
    },
    {
      "cell_type": "code",
      "source": [
        "im = plt.imshow(N2D, cmap='inferno')\n",
        "plt.colorbar(im);"
      ],
      "metadata": {
        "id": "L4Jw3V2blj6L"
      },
      "execution_count": null,
      "outputs": []
    },
    {
      "cell_type": "code",
      "source": [],
      "metadata": {
        "id": "CF7BsFEHEiCw"
      },
      "execution_count": null,
      "outputs": []
    },
    {
      "cell_type": "code",
      "source": [
        "def GRF(M, sigma2, l):\n",
        "    '''Genera una realización aleatoria de un campo aleatorio gaussiano\n",
        "    de vector de medias = 0, en la región [0,1]x[0,1] del plano\n",
        "    utilizando una función de covarianza exponencial\n",
        "    de parámetros sigma2, l, es decir:\n",
        "    C(t1, t2) = sigma2 * exp(- norm(t1 - t2)/l)\n",
        "    sigma2 es la varianza del campo en cada punto.\n",
        "    l es la longitud de correlación.\n",
        "    M es el número de subdivisiones de cada eje.\n",
        "    La función devuelve un array de dimensiones (M, M) con el valor\n",
        "    del campo escalar en cada punto\n",
        "    '''\n",
        "    # Los nodos t_n del dominio D = [0,1]x[0,1] se supondrán ordenados secuencialmente:\n",
        "    #[(0,0), (0,1/M),...,(0,(M-1)/M),(1/M,0),...,(1/M,(M-1)/M),...,((M-1)/M, 0),...,((M-1)/M,(M-1)/M)]\n",
        "    #generaremos una lista con las coordenadas de los nodos en el mismo orden que aparecerán en\n",
        "    #las filas y columnas de la matriz de covarianza\n",
        "    nodos = [(i/M,j/M) for i in range(M) for j in range(M)]\n",
        "    #Generación de la matriz de covarianza Sigma\n",
        "    x,y = zip(*nodos)\n",
        "    X1, X2 = np.meshgrid(x,x)\n",
        "    Y1, Y2 = np.meshgrid(y,y)\n",
        "    Sigma = sigma2 * np.exp(-np.sqrt((X1 - X2)**2 +(Y1 - Y2)**2)/l)\n",
        "    #Ahora hacemos la descomposición de Cholesky de Sigma\n",
        "    L = np.linalg.cholesky(Sigma)\n",
        "    np.random.seed(1)    #Se fija una semilla para hacer reproducible el resultado\n",
        "    Z = np.random.randn(len(nodos))    # Vector de M*M variables independientes N(0,1)\n",
        "    N = np.dot(L, Z) #Se genera un vector aleatorio gaussiano N(0, Sigma) de longitud M*M\n",
        "    N2D = np.zeros((M,M)) #Se reorganiza el N en dos dimensione.\n",
        "    for i in range(len(nodos)):\n",
        "        a, b = divmod(i,M)    #indices en el array N2D\n",
        "        N2D[a,b] = N[i]\n",
        "    return N2D"
      ],
      "metadata": {
        "id": "Vt9J1S0_lvb3"
      },
      "execution_count": null,
      "outputs": []
    },
    {
      "cell_type": "code",
      "source": [
        "def WN(M, sigma2, l):\n",
        "    '''Genera una realización aleatoria de un campo aleatorio gaussiano\n",
        "    de vector de medias = 0, en la región [0,1]x[0,1] del plano\n",
        "    utilizando una función de covarianza exponencial\n",
        "    de parámetros sigma2, l, es decir:\n",
        "    C(t1, t2) = sigma2 * exp(- norm(t1 - t2)/l)\n",
        "    sigma2 es la varianza del campo en cada punto.\n",
        "    l es la longitud de correlación.\n",
        "    M es el número de subdivisiones de cada eje.\n",
        "    La función devuelve un array de dimensiones (M, M) con el valor\n",
        "    del campo escalar en cada punto\n",
        "    '''\n",
        "    # Los nodos t_n del dominio D = [0,1]x[0,1] se supondrán ordenados secuencialmente:\n",
        "    #[(0,0), (0,1/M),...,(0,(M-1)/M),(1/M,0),...,(1/M,(M-1)/M),...,((M-1)/M, 0),...,((M-1)/M,(M-1)/M)]\n",
        "    #generaremos una lista con las coordenadas de los nodos en el mismo orden que aparecerán en\n",
        "    #las filas y columnas de la matriz de covarianza\n",
        "    nodos = [(i/M,j/M) for i in range(M) for j in range(M)]\n",
        "    #Generación de la matriz de covarianza Sigma\n",
        "    x,y = zip(*nodos)\n",
        "    X1, X2 = np.meshgrid(x,x)\n",
        "    Y1, Y2 = np.meshgrid(y,y)\n",
        "    Sigma = sigma2 * np.exp(-np.sqrt((X1 - X2)**2 +(Y1 - Y2)**2)/l)\n",
        "    #Ahora hacemos la descomposición de Cholesky de Sigma\n",
        "    L = np.linalg.cholesky(Sigma)\n",
        "    np.random.seed(1)    #Se fija una semilla para hacer reproducible el resultado\n",
        "    Z = np.random.randn(len(nodos))    # Vector de M*M variables independientes N(0,1)\n",
        "    #N = np.dot(L, Z) #Se genera un vector aleatorio gaussiano N(0, Sigma) de longitud M*M\n",
        "    Z2D = np.zeros((M,M)) #Se reorganiza el N en dos dimensione.\n",
        "    for i in range(len(nodos)):\n",
        "        a, b = divmod(i,M)    #indices en el array Z2D\n",
        "        Z2D[a,b] = Z[i]\n",
        "    return Z2D"
      ],
      "metadata": {
        "id": "0Cd08TnmKMKf"
      },
      "execution_count": null,
      "outputs": []
    },
    {
      "cell_type": "code",
      "source": [
        "M = 100\n",
        "positions = np.linspace(0,M,7)\n",
        "labels = np.linspace(0,1,2)\n",
        "fig, ax = plt.subplots(2,2, figsize=(15, 12))\n",
        "im = ax[0,0].imshow(GRF(M, 1, 1).T, origin='lower', cmap='inferno')\n",
        "ax[0,0].set_title(r'GRF $\\sigma^2 = 1$, $\\lambda=1$', fontsize=16)\n",
        "fig.colorbar(im, ax = ax[0,0])\n",
        "\n",
        "im = ax[0,1].imshow(GRF(M, 1, 0.1).T, origin='lower' , cmap='inferno')\n",
        "ax[0,1].set_title(r'GRF $\\sigma^2 = 1$, $\\lambda=0.1$', fontsize=16)\n",
        "fig.colorbar(im, ax = ax[0,1])\n",
        "\n",
        "im = ax[1,0].imshow(GRF(M, 9, 1).T, origin='lower', cmap='inferno')\n",
        "ax[1,0].set_title(r'GRF $\\sigma^2 = 9$, $\\lambda=1$', fontsize=16)\n",
        "fig.colorbar(im, ax = ax[1,0])\n",
        "\n",
        "im = ax[1,1].imshow(GRF(M, 9, 0.1).T, origin='lower', cmap='inferno')\n",
        "ax[1,1].set_title(r'GRF $\\sigma^2 = 9$, $\\lambda=0.1$', fontsize=16)\n",
        "fig.colorbar(im, ax = ax[1,1])\n",
        "\n",
        "for i in [0,1]:\n",
        "    for j in [0,1]:\n",
        "        ax[i,j].set_xticks(positions)\n",
        "        ax[i,j].set_xticklabels(labels)\n",
        "        ax[i,j].set_yticks(positions)\n",
        "        ax[i,j].set_yticklabels(labels)"
      ],
      "metadata": {
        "id": "rGEHsDUcl3uy"
      },
      "execution_count": null,
      "outputs": []
    },
    {
      "cell_type": "code",
      "source": [
        "M = 50\n",
        "positions = np.linspace(0,M, 6)\n",
        "labels = np.linspace(0,1,6)\n",
        "fig, ax = plt.subplots(2,2, figsize=(15, 12))\n",
        "im = ax[0,0].imshow(GRF(M, 1, 1).T, origin='lower')\n",
        "ax[0,0].set_title(r'GRF $\\sigma^2 = 1$, $l=1$', fontsize=16)\n",
        "fig.colorbar(im, ax = ax[0,0])"
      ],
      "metadata": {
        "id": "jY8su_UA6b6M"
      },
      "execution_count": null,
      "outputs": []
    },
    {
      "cell_type": "code",
      "source": [
        "fig = plt.figure(figsize=(7,7))\n",
        "ax1 = fig.add_subplot(111, projection='3d')\n",
        "N = GRF(M, 1, 1)\n",
        "ax1.plot_surface(X, Y, N, rstride=1, cstride=1, cmap=cm.coolwarm, linewidth=0.5)\n",
        "ax1.set_zlim(-5, 5)\n",
        "ax1.set_title(r'GRF $\\sigma^2 = 1$, $l=1$', fontsize=16);"
      ],
      "metadata": {
        "id": "qQEQ0l8KmW4x"
      },
      "execution_count": null,
      "outputs": []
    },
    {
      "cell_type": "code",
      "source": [
        "im2 = plt.imshow(WN(120, 1, 1).T, origin='lower', cmap='inferno')\n",
        "plt.colorbar(im2)\n",
        "plt.figure()\n",
        "im = plt.imshow(GRF(120, 1, 1).T, origin='lower', cmap='inferno')\n",
        "plt.colorbar(im)\n",
        "plt.figure()\n"
      ],
      "metadata": {
        "id": "yxR8ZDkTqVLt"
      },
      "execution_count": null,
      "outputs": []
    }
  ]
}