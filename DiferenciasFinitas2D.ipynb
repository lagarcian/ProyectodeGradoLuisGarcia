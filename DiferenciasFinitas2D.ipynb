{
  "nbformat": 4,
  "nbformat_minor": 0,
  "metadata": {
    "colab": {
      "private_outputs": true,
      "provenance": [],
      "include_colab_link": true
    },
    "kernelspec": {
      "name": "python3",
      "display_name": "Python 3"
    },
    "language_info": {
      "name": "python"
    }
  },
  "cells": [
    {
      "cell_type": "markdown",
      "metadata": {
        "id": "view-in-github",
        "colab_type": "text"
      },
      "source": [
        "<a href=\"https://colab.research.google.com/github/lagarcian/ProyectodeGradoLuisGarcia/blob/main/DiferenciasFinitas2D.ipynb\" target=\"_parent\"><img src=\"https://colab.research.google.com/assets/colab-badge.svg\" alt=\"Open In Colab\"/></a>"
      ]
    },
    {
      "cell_type": "code",
      "source": [
        "import numpy as np\n",
        "import sympy as sp\n",
        "from matplotlib import pyplot as plt\n",
        "from matplotlib import cm\n",
        "from matplotlib.ticker import LinearLocator"
      ],
      "metadata": {
        "id": "WtdmPp_sCXFz"
      },
      "execution_count": null,
      "outputs": []
    },
    {
      "cell_type": "code",
      "execution_count": null,
      "metadata": {
        "id": "PjJIBu6_dknX"
      },
      "outputs": [],
      "source": [
        "\n",
        "#solución manufacturada u_m\n",
        "\n",
        "def u_m(x, y):\n",
        "    return x * np.cos((np.pi/2) * x) * y * np.cos((np.pi/2) * y)\n",
        "\n",
        "def u_x(x, y, h=1e-5):\n",
        "    return (u_m(x + h, y) - u_m(x - h, y)) / (2 * h)\n",
        "\n",
        "def u_xx(x, y, h=1e-5):\n",
        "    return (u_x(x + h, y, h) - u_x(x - h, y, h)) / (2 * h)\n",
        "\n",
        "def u_y(x, y, h=1e-5):\n",
        "    return (u_m(x , y + h) - u_m(x , y - h)) / (2 * h)\n",
        "\n",
        "def u_yy(x, y, h=1e-5):\n",
        "    return (u_y(x , y + h, h) - u_y(x , y - h, h)) / (2 * h)\n",
        "\n",
        "def Laplaciano(x,y):\n",
        "  return u_xx(x,y)+u_yy(x,y)\n",
        "\n",
        "def f(x,y):\n",
        "  return -Laplaciano(x,y)\n",
        "\n",
        "\n",
        "resultado = f(0.5,0.5)\n",
        "\n",
        "print(resultado)\n",
        "\n",
        "\n",
        "x_val = 0.5\n",
        "y_val = 0.5\n",
        "\n",
        "result = u_xx(x_val, y_val)\n",
        "print(result)"
      ]
    },
    {
      "cell_type": "code",
      "source": [
        "\n",
        "#Aqui calculamos el laplaciano en símbolos para poder hallar la función fuente f(x,y), luego se evalúa numericamente para poder compararla\n",
        "#con el método de diferencias finitas.\n",
        "x, y = sp.symbols('x y', real=True)\n",
        "\n",
        "u_m = x * sp.cos((sp.pi/2) * x) * y * sp.cos((sp.pi/2) * y)\n",
        "\n",
        "u_x = sp.diff(u_m, x)\n",
        "u_y = sp.diff(u_m, y)\n",
        "\n",
        "#print(u_x)\n",
        "#print(u_y)\n",
        "\n",
        "u_xx= sp.diff(u_x, x)\n",
        "u_yy=sp.diff(u_y,y)\n",
        "Laplaciano = u_xx + u_yy\n",
        "print(-Laplaciano)\n",
        "#print(u_xx)\n",
        "#print(u_yy)\n",
        "\n",
        "x_val = 0.5\n",
        "y_val = 0.5\n",
        "\n",
        "u_x_val = u_x.subs([(x, x_val), (y, y_val)])\n",
        "u_y_val = u_y.subs([(x, x_val), (y, y_val)])\n",
        "\n",
        "u_xx_val = u_xx.subs([(x, x_val), (y, y_val)])\n",
        "u_yy_val = u_yy.subs([(x, x_val), (y, y_val)])\n",
        "\n",
        "Lap = u_xx_val+u_yy_val\n",
        "res_val = -Lap\n",
        "print(res_val) #Aqui se evalúa numéricamente\n",
        "print(res_val.evalf()) #Aquí está su valor aproximado con decimales.\n",
        "\n",
        "\n",
        "\n",
        "\n",
        "\n",
        "\n",
        "\n"
      ],
      "metadata": {
        "id": "C-VVwhRF7F1v"
      },
      "execution_count": null,
      "outputs": []
    },
    {
      "cell_type": "code",
      "source": [
        "#Aqui a partir de la solución manufacturada u_ma(x,y) hallamos la función fuente f(x,y)\n",
        "def u_ma(x,y):\n",
        "  return x * np.cos((np.pi/2) * x) * y * np.cos((np.pi/2) * y)\n",
        "\n",
        "def f(x,y,a=1):\n",
        "  return np.pi**2*x*y*np.cos(np.pi*x/2)*np.cos(np.pi*y/2)/2 + np.pi*x*np.sin(np.pi*y/2)*np.cos(np.pi*x/2) + np.pi*y*np.sin(np.pi*x/2)*np.cos(np.pi*y/2)+a*u_ma(x,y)\n",
        "\n",
        "#print(u_ma(0.5,0.5))\n",
        "print(f(0.5,0.5))"
      ],
      "metadata": {
        "id": "8QhRcBXF-j-Z"
      },
      "execution_count": null,
      "outputs": []
    },
    {
      "cell_type": "code",
      "source": [
        "# Tamaño de la malla\n",
        "n=128 #número de particiones\n",
        "a=1 #parámetro de escala\n",
        "\n",
        "\n",
        "  # Tamaño de paso\n",
        "h = 1/n\n",
        "\n",
        "  # Crear matriz A y vector B\n",
        "A = np.zeros(((n-1)**2, (n-1)**2))\n",
        "B = np.zeros((n-1)**2)\n",
        "  #nodes = np.zeros(((n-1)**2, 2))\n",
        "nodesx = np.zeros((n-1, n-1))\n",
        "nodesy = np.zeros((n-1, n-1))\n",
        "nodesu = np.zeros((n-1, n-1))\n",
        "errores= np.zeros((n-1, n-1))\n",
        "# Llenar matriz A y vector B\n",
        "for i in range(n-1):\n",
        "    for j in range(n-1):\n",
        "         index = i*(n-1) + j\n",
        "         A[index, index] = 4 + a*h**2\n",
        "         if   i > 0:\n",
        "           A[index, index - (n-1)] = -1\n",
        "         if i < n - 2:\n",
        "           A[index, index + (n-1)] = -1\n",
        "         if j > 0:\n",
        "           A[index, index - 1] = -1\n",
        "         if j < n - 2:\n",
        "           A[index, index + 1] = -1\n",
        "           xi = (i + 1) * h\n",
        "           yi = (j + 1) * h\n",
        "         nodesx[i , j] = xi\n",
        "         nodesy[i , j] = yi\n",
        "\n",
        "         if (xi == 0.5 and yi == 0.5):\n",
        "           index_mitad = index\n",
        "         B[index] = h**2 * f(xi, yi, a)\n",
        "          # Asegúrate de que f(x, y) y a*u_ma(x,y) esté definida correctamente\n",
        "         #El cambio va a estar en la matriz, recordemos las ecuaciones en dos dimensiones.\n",
        "         # Resolver el sistema de ecuaciones\n",
        "U = np.linalg.solve(A, B) #solver lineal para hallar U que es el vector solución\n",
        "error = np.absolute(U[index_mitad]-u_ma(0.5,0.5))\n",
        "for i in range(n-1):\n",
        "    for j in range(n-1):\n",
        "             index = i*(n-1) + j\n",
        "             nodesu[i, j] = U[index]\n",
        "\n",
        "\n",
        "\n",
        "print(\"Matrix A:\")\n",
        "print(A)\n",
        "print(\"Vector B:\")\n",
        "print(B)\n",
        "print(\"Solution U:\")\n",
        "print(U)\n",
        "#print(nodes)\n",
        "\n",
        "print(u_ma(0.5,0.5)) #valor numérico de la solución manufacturada en x=0.5, y=0.5\n",
        "print (error)\n",
        "\n",
        "\n"
      ],
      "metadata": {
        "id": "uYJVWUSdBJDX"
      },
      "execution_count": null,
      "outputs": []
    },
    {
      "cell_type": "code",
      "source": [
        "#Algoritmo para graficar la solución exacta U en 3D\n",
        "\n",
        "nodesum=np.zeros((n-1,n-1))\n",
        "\n",
        "for i in range(n-1):\n",
        "  for j in range(n-1):\n",
        "    nodesum[i,j]=u_ma(nodesx[i,j],nodesy[i,j])\n",
        "\n",
        "\n",
        "fig, ax = plt.subplots(subplot_kw={\"projection\": \"3d\"})\n",
        "\n",
        "surf = ax.plot_surface(nodesx ,nodesy , nodesum , cmap='inferno', linewidth=0, antialiased=False)\n",
        "\n",
        "#ax.set_zlim(-1.01, 1.01)\n",
        "ax.zaxis.set_major_locator(LinearLocator(10))\n",
        "\n",
        "ax.zaxis.set_major_formatter('{x:.02f}')\n",
        "\n",
        "# Add a color bar which maps values to colors.\n",
        "fig.colorbar(surf, shrink=0.5, aspect=5)\n",
        "\n",
        "plt.show()\n"
      ],
      "metadata": {
        "id": "YculDD4VcTFb"
      },
      "execution_count": null,
      "outputs": []
    },
    {
      "cell_type": "code",
      "source": [
        "tamanoa =[4,16,100,120]\n",
        "erroresuno =[0.01964698484721189,0.00042770868470370926,5.596053372247667e-06, 3.735829365164589e-06]\n",
        "erroresdiez = [0.016062311663258597,0.00037140573542232547,4.219881386074986e-06, 2.785259050841482e-06 ]\n",
        "erroresmenosuno=[0.00845605272006529,0.014274438369693498,0.013750248030834411, 0.013747809099767805]\n",
        "import matplotlib.pyplot as plt\n",
        "plt.loglog(tamanoa, erroresuno, label='a=1')\n",
        "plt.loglog(tamanoa, erroresdiez, label ='a=10')\n",
        "plt.loglog(tamanoa, erroresmenosuno, label ='a=-1')\n",
        "plt.xlabel('n')\n",
        "plt.ylabel('error')\n",
        "plt.legend()\n",
        "plt.grid()\n",
        "plt.show()"
      ],
      "metadata": {
        "id": "YhzPagu7XbQH"
      },
      "execution_count": null,
      "outputs": []
    },
    {
      "cell_type": "code",
      "source": [
        "Errores=[]\n",
        "\n",
        "for i in range(n-1)"
      ],
      "metadata": {
        "id": "W7Z3esL1RgIU"
      },
      "execution_count": null,
      "outputs": []
    },
    {
      "cell_type": "code",
      "source": [
        "\n",
        "fig, ax = plt.subplots(subplot_kw={\"projection\": \"3d\"})\n",
        "\n",
        "surf = ax.plot_surface(nodesx ,nodesy , nodesu , cmap=cm.coolwarm, linewidth=0, antialiased=False)\n",
        "\n",
        "#plt.plot_surface( nodes[:,1] ,nodes[:,2] , U , cmap=cm.coolwarm, linewidth=0, antialiased=False )\n",
        "\n",
        "\n",
        "#ax.set_zlim(-1.01, 1.01)\n",
        "ax.zaxis.set_major_locator(LinearLocator(10))\n",
        "\n",
        "ax.zaxis.set_major_formatter('{x:.02f}')\n",
        "\n",
        "# Add a color bar which maps values to colors.\n",
        "fig.colorbar(surf, shrink=0.5, aspect=5)\n",
        "\n",
        "plt.show()"
      ],
      "metadata": {
        "id": "tN1WMZsPBWHh"
      },
      "execution_count": null,
      "outputs": []
    }
  ]
}