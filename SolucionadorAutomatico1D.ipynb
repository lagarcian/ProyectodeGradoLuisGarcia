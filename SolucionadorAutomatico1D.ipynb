{
  "nbformat": 4,
  "nbformat_minor": 0,
  "metadata": {
    "colab": {
      "private_outputs": true,
      "provenance": [],
      "include_colab_link": true
    },
    "kernelspec": {
      "name": "python3",
      "display_name": "Python 3"
    },
    "language_info": {
      "name": "python"
    }
  },
  "cells": [
    {
      "cell_type": "markdown",
      "metadata": {
        "id": "view-in-github",
        "colab_type": "text"
      },
      "source": [
        "<a href=\"https://colab.research.google.com/github/lagarcian/ProyectodeGradoLuisGarcia/blob/main/SolucionadorAutomatico1D.ipynb\" target=\"_parent\"><img src=\"https://colab.research.google.com/assets/colab-badge.svg\" alt=\"Open In Colab\"/></a>"
      ]
    },
    {
      "cell_type": "code",
      "execution_count": null,
      "metadata": {
        "id": "FVRvtiPifE0H"
      },
      "outputs": [],
      "source": [
        "import numpy as np\n",
        "n=int(input(\"Escribe el número de particiones: \"))\n",
        "\n",
        "#Solución exacta de la ED en una dimensión -u''=f con condiciones u(0)=0 y u(1)=0, aqui f(x)=x^3\n",
        "def u(x):\n",
        "    return -x**5/20+x/20\n",
        "\n",
        "def f(x):\n",
        "    return x**3\n",
        "\n",
        "def get_a_b_x(n):\n",
        "  A=np.zeros((n-1,n-1))\n",
        "  B=np.zeros(n-1)\n",
        "  h=1/n\n",
        "  for i in range (0,n-1): # i representa la fila que estamos fijando\n",
        "    A[i][i]=-2.0            # llenamos el valor de la diagonal\n",
        "    if i-1>=0:\n",
        "      A[i][i-1]=1.0         # llenamos el valor a la izquierda de la diagonal\n",
        "    if i+1 < n-1:\n",
        "      A[i][i+1]=1.0         # llenamos el valor a la derecha de la diagonal\n",
        "    # if i-1>=0:\n",
        "    #   A[i-1][i]=1.0\n",
        "\n",
        "    # if i+1>0 and i+1<3:\n",
        "    #   A[i+1][i]=1.0\n",
        "\n",
        "    xi = (i+1)*h\n",
        "    B[i]=-h**2 * f(xi)      # llenamos el valor del vector\n",
        "\n",
        "  U=np.linalg.solve(A,B)\n",
        "  print(A,B,U)\n",
        "  indice=int((n)/2-1)\n",
        "  error=np.absolute(u(0.5)-U[indice])\n",
        "\n",
        "  return error\n",
        "\n",
        "\n",
        "print(get_a_b_x(n))\n",
        "print(u(0.5))\n"
      ]
    },
    {
      "cell_type": "code",
      "source": [
        "n_1=4\n",
        "n_2=8\n",
        "n_3=16\n",
        "n_4=32\n",
        "n_5=64\n",
        "n_6=124\n",
        "n_7=300\n",
        "\n",
        "error_1=0.0013020833333333356\n",
        "error_2=0.00032552083333332177\n",
        "error_3=8.138020833332871e-05\n",
        "error_4=2.034505208344667e-05\n",
        "error_5=5.086263021113202e-06\n",
        "error_6=1.35492542512744e-06\n",
        "error_7=2.3148147937357422e-07\n",
        "\n",
        "import matplotlib.pyplot as plt\n",
        "\n",
        "x=[n_1,n_2,n_3,n_4,n_5,n_6,n_7]\n",
        "y=[error_1,error_2,error_3,error_4,error_5,error_6,error_7]\n",
        "plt.xlabel(\"$n$ \")\n",
        "plt.ylabel(\"$ error$\")\n",
        "plt.title('$ n$ vs $ error$ en $x=1/2$')\n",
        "\n",
        "plt.loglog(x,y)\n",
        "plt.grid(True)\n",
        "plt.show()"
      ],
      "metadata": {
        "id": "7E4Bt0w-gu9M"
      },
      "execution_count": null,
      "outputs": []
    },
    {
      "cell_type": "code",
      "source": [],
      "metadata": {
        "id": "SKYa1KX944zl"
      },
      "execution_count": null,
      "outputs": []
    },
    {
      "cell_type": "markdown",
      "source": [
        "Investigar cómo resolver por diferencias finitas centradas\n",
        "la ecuación de Poisson\n",
        "$$\n",
        "-\\nabla\\cdot(\\nabla u)=-\\Delta u=\n",
        "-(\\frac{\\partial^2 u}{\\partial x^2}+\\frac{\\partial^2 u}{\\partial y^2})=f(x,y)\n",
        "$$\n",
        "en el dominio\n",
        "$$0<x<1,0<y<1$$\n",
        "con las condiciones de frontera\n",
        "$$\n",
        "u(x,0) = 0 \\qquad\n",
        "u(x,1) = 0 \\qquad\n",
        "u(0,y) = 0 \\qquad\n",
        "u(1,y) = 0\n",
        "$$\n",
        "Iniciar el estudio con $f(x,y)=1$ y luego con $f(x,y)=\\sin(\\pi x) \\sin(\\pi y)$.\n",
        "Iniciar buscando la solución analítica de este problema.\n",
        "\n",
        "Iniciemos con 4 divisiones en dirección x y 4 en dirección y.\n",
        "\n",
        "Es importante mapear cada punto de la malla bidimensional a un solo número de variable/ecuación.\n",
        "\n",
        "Por ejemplo, si l va desde 1 hasta n-1, y representa la \"coordenada\" horizontal, y k representa la \"coordenada\" vertical, el número/índice de la ecuación i viene dado por\n",
        "$$\n",
        "i = l + (k-1)*(n-1)   \n",
        "$$"
      ],
      "metadata": {
        "id": "pE_hZsyI73Ko"
      }
    }
  ]
}