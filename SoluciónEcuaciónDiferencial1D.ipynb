{
  "nbformat": 4,
  "nbformat_minor": 0,
  "metadata": {
    "colab": {
      "private_outputs": true,
      "provenance": [],
      "cell_execution_strategy": "setup",
      "include_colab_link": true
    },
    "kernelspec": {
      "name": "python3",
      "display_name": "Python 3"
    },
    "language_info": {
      "name": "python"
    }
  },
  "cells": [
    {
      "cell_type": "markdown",
      "metadata": {
        "id": "view-in-github",
        "colab_type": "text"
      },
      "source": [
        "<a href=\"https://colab.research.google.com/github/lagarcian/ProyectodeGradoLuisGarcia/blob/main/Soluci%C3%B3nEcuaci%C3%B3nDiferencial1D.ipynb\" target=\"_parent\"><img src=\"https://colab.research.google.com/assets/colab-badge.svg\" alt=\"Open In Colab\"/></a>"
      ]
    },
    {
      "cell_type": "code",
      "execution_count": null,
      "metadata": {
        "id": "sjch0QzBWZf7"
      },
      "outputs": [],
      "source": [
        "import numpy as np\n",
        "import sympy as sp\n",
        "from matplotlib import pyplot as plt\n",
        "from matplotlib import cm\n",
        "from matplotlib.ticker import LinearLocator\n",
        "\n",
        "\n"
      ]
    },
    {
      "cell_type": "code",
      "source": [
        "def u_ma(x): #solución manufacturada, se pretende solucionar -u''(x)+a*u=f(x)\n",
        "  return np.cos(x)**3 + np.cos(x)\n",
        "\n",
        "L=2*np.pi\n",
        "#Aqui se calcula el laplaciano de manera simbolica.\n",
        "x, y = sp.symbols('x y', real=True)\n",
        "\n",
        "u_m= sp.cos(x)**3+sp.cos(x)\n",
        "\n",
        "u_x = sp.diff(u_m, x)\n",
        "u_y = sp.diff(u_m, y)\n",
        "\n",
        "#print(u_x)\n",
        "#print(u_y)\n",
        "\n",
        "u_xx= sp.diff(u_x, x)\n",
        "u_yy=sp.diff(u_y,y)\n",
        "Laplaciano = u_xx + u_yy\n",
        "print(-Laplaciano)\n",
        "\n"
      ],
      "metadata": {
        "id": "j1knPm8SWsir"
      },
      "execution_count": null,
      "outputs": []
    },
    {
      "cell_type": "code",
      "source": [
        "def f(x, a=1): #Aqui se tiene la función fuente\n",
        "  return 3*np.cos(x)**3+np.cos(x)-6*np.sin(x)**2*np.cos(x)+a*u_ma(x)"
      ],
      "metadata": {
        "id": "7wCAtuZOX_SM"
      },
      "execution_count": null,
      "outputs": []
    },
    {
      "cell_type": "code",
      "source": [
        "print(u_ma(L))\n",
        "print(u_ma(0))\n",
        "#cumple las condiciones de frontera.\n",
        "print()"
      ],
      "metadata": {
        "id": "EvESUxU9YcMr"
      },
      "execution_count": null,
      "outputs": []
    },
    {
      "cell_type": "code",
      "source": [
        "n=64\n",
        "a=1\n",
        "\n",
        "\n",
        "  # Tamaño de paso\n",
        "h = L/n\n",
        "\n",
        "  # Crear matriz A y vector B\n",
        "A = np.zeros(((n)**2, (n)**2))\n",
        "B = np.zeros((n)**2)\n",
        "  #nodes = np.zeros(((n)**2, 2))\n",
        "nodesx = np.zeros((n, n))\n",
        "#nodesy = np.zeros((n, n))\n",
        "nodesu = np.zeros((n, n))\n",
        "errores= np.zeros((n, n))\n",
        "# Llenar matriz A y vector B\n",
        "for i in range(n):\n",
        "    for j in range(n):\n",
        "         index = i*(n) + j\n",
        "         A[index, index] = 2 + a*h**2\n",
        "         if   i > 0:\n",
        "           A[index, index - (n)] = -1\n",
        "         if i < n - 2:\n",
        "           A[index, index + (n)] = -1\n",
        "         if j > 0:\n",
        "           A[index, index - 1] = -1\n",
        "         if j < n - 2:\n",
        "           A[index, index + 1] = -1\n",
        "           xi = (i + 1) * h\n",
        "           #yi = (j + 1) * h\n",
        "         nodesx[i , j] = xi\n",
        " #        nodesy[i , j] = yi\n",
        "\n",
        "         if (xi == L/2):\n",
        "           index_mitad = index\n",
        "         B[index] = h**2 * f(xi, a)\n",
        "          # Asegúrate de que f(x, y) y a*u_ma(x,y) esté definida correctamente\n",
        "         #El cambio va a estar en la matriz, recordemos las ecuaciones en dos dimensiones.\n",
        "         # Resolver el sistema de ecuaciones\n",
        "U = np.linalg.solve(A, B)\n",
        "error = np.absolute(U[index_mitad]-u_ma(L/2))\n",
        "for i in range(n):\n",
        "    for j in range(n):\n",
        "             index = i*(n) + j\n",
        "             nodesu[i, j] = U[index]\n",
        "\n",
        "\n",
        "\n",
        "print(\"Matrix A:\")\n",
        "print(A)\n",
        "print(\"Vector B:\")\n",
        "print(B)\n",
        "print(\"Solution U:\")\n",
        "print(U)\n",
        "#print(nodes)\n",
        "\n",
        "print(u_ma(L/2))\n",
        "print (error)\n"
      ],
      "metadata": {
        "id": "05TZy0DAZNq1"
      },
      "execution_count": null,
      "outputs": []
    },
    {
      "cell_type": "code",
      "source": [
        "def get_A_b(n,a=1):\n",
        "   # Tamaño de paso\n",
        "  h = L/n\n",
        "\n",
        "    # Crear matriz A y vector B\n",
        "  A = np.zeros((n,n))\n",
        "  B = np.zeros(n)\n",
        "    #nodes = np.zeros(((n)**2, 2))\n",
        "  nodesx = np.zeros(n)\n",
        "  #nodesy = np.zeros((n, n))\n",
        "  nodesu = np.zeros(n)\n",
        "  nodesU_ma = np.zeros(n)\n",
        "  #errores= np.zeros((n, n))\n",
        "  # Llenar matriz A y vector B\n",
        "  for i in range(n):\n",
        "\n",
        "\n",
        "\n",
        "    index = i\n",
        "    A[index, index] = 2 + a*h**2\n",
        "    if   i > 0:\n",
        "      A[index, index - 1] = -1\n",
        "    if i < n - 1:\n",
        "      A[index, index + 1] = -1\n",
        "    if index==0:\n",
        "      A[index, n-1] = -1\n",
        "    if index==n-1:\n",
        "      A[index, 0] = -1\n",
        "\n",
        "\n",
        "    xi = (i + 1) * h\n",
        "\n",
        "    nodesx[i] = xi\n",
        "    #\n",
        "\n",
        "\n",
        "    if (xi == L/2):\n",
        "      index_mitad = index\n",
        "    B[index] = h**2 * f(xi, a)\n",
        "          # Asegúrate de que f(x, y) y a*u_ma(x,y) esté definida correctamente\n",
        "         #El cambio va a estar en la matriz, recordemos las ecuaciones en dos dimensiones.\n",
        "         # Resolver el sistema de ecuaciones\n",
        "  print(A)\n",
        "  U = np.linalg.solve(A, B)\n",
        "  error = np.absolute(U[index_mitad]-u_ma(L/2))\n",
        "  for i in range(n):\n",
        "\n",
        "    index = i\n",
        "    nodesu[i] = U[index]\n",
        "\n",
        "\n",
        "  x_valores=np.linspace(0,2*np.pi ,n)\n",
        "  U_ma=u_ma(x_valores)\n",
        "\n",
        "\n",
        "  print(\"Matrix A:\")\n",
        "  print(A)\n",
        "  print(\"Vector B:\")\n",
        "  print(B)\n",
        "  print(\"Solution U:\")\n",
        "  print(U)\n",
        "  print(\"Solución U_ma:\")\n",
        "  print(U_ma)\n",
        "  print(U[index_mitad])\n",
        "  print(u_ma(L/2))\n",
        "  print(nodesx[index_mitad])\n",
        "#print(nodes)\n",
        "\n",
        "\n",
        "\n",
        "\n",
        "  plt.plot(nodesx, U, label=\"Numérica\")\n",
        "  plt.plot(nodesx, U_ma, label =\"Exacta\")\n",
        "  plt.grid(True)\n",
        "  plt.xlabel('x')\n",
        "  plt.ylabel('U')\n",
        "  plt.legend()\n",
        "  plt.show()\n",
        "\n",
        "  return error"
      ],
      "metadata": {
        "id": "CykJTlKXabN9"
      },
      "execution_count": null,
      "outputs": []
    },
    {
      "cell_type": "code",
      "source": [
        "print(get_A_b(128))\n",
        "\n",
        "\n",
        "\n",
        "\n"
      ],
      "metadata": {
        "id": "n2K-4hT7baem"
      },
      "execution_count": null,
      "outputs": []
    },
    {
      "cell_type": "code",
      "source": [],
      "metadata": {
        "id": "LxX1e3ge-83x"
      },
      "execution_count": null,
      "outputs": []
    },
    {
      "cell_type": "code",
      "source": [
        "tamano=[1,2,4,16,100,120] #Arreglo de distintos números de divisiones.\n",
        "\n",
        "#erroresuno=[get_A_b(4,10),get_A_b(16,10),get_A_b(100,10),get_A_b(120,10)]\n",
        "erroresdiez=[get_A_b(4), get_A_b(16),get_A_b(100),get_A_b(120)]\n",
        "\n",
        "\n",
        "plt.loglog(tamano, erroresdiez)\n",
        "#plt.plot(tamano, erroresdiez)\n",
        "plt.grid()\n",
        "plt.show()\n",
        "\n"
      ],
      "metadata": {
        "id": "Y6ShHPvtchBt"
      },
      "execution_count": null,
      "outputs": []
    }
  ]
}